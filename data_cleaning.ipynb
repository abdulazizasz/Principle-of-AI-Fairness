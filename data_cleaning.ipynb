{
 "cells": [
  {
   "cell_type": "code",
   "execution_count": 2,
   "metadata": {},
   "outputs": [],
   "source": [
    "import numpy as np\n",
    "import pandas as pd \n",
    "import matplotlib.pyplot as plt \n",
    "import seaborn as sns\n",
    "from sklearn.preprocessing import LabelEncoder\n",
    "pd.set_option('max_columns', 120)\n",
    "pd.set_option('max_colwidth', 5000)\n",
    "%matplotlib inline\n",
    "\n",
    "# inspired by \n",
    "# https://github.com/mbadi/Stop_and_Frisk_Classification-/blob/master/NYPD_Stop-and-Frisk.ipynb\n",
    "# https://github.com/alexamanpreet/Machine-Learning-using-DNN-on-NYPD-s-Stop-and-Frisk/blob/master/Machine%20Learning%20using%20DNN%20on%20NYPD's%20%20Stop-and-Frisk.ipynb"
   ]
  },
  {
   "attachments": {},
   "cell_type": "markdown",
   "metadata": {},
   "source": [
    "### \n",
    "\n",
    "- pct PRECINCT OF STOP (FROM 1 TO 123)\n",
    "- inout\t\tWAS STOP INSIDE OR OUTSIDE\n",
    "- perobs\t\tPERIOD OF OBSERVATION (MMM)\n",
    "- perstop\t\tPERIOD OF STOP (MMM)\n",
    "- explnstp\t\tDID OFFICER EXPLAIN REASON FOR STOP ?\n",
    "- arstmade\t\tWAS AN ARREST MADE ?\n",
    "- sumissue\t\tWAS A SUMMONS ISSUED ?\n",
    "- offunif\t\tWAS OFFICER IN UNIFORM ?\n",
    "- frisked\t\tWAS SUSPECT FRISKED ?\n",
    "- searched\t\tWAS SUSPECT SEARCHED ?\n",
    "- contrabn\t\tWAS CONTRABAND FOUND ON SUSPECT ?\n",
    "- pistol\t\tWAS A PISTOL FOUND ON SUSPECT ?\n",
    "- rf_attir\t\tREASON FOR FRISK - INAPPROPRIATE ATTIRE FOR SEASON\n",
    "- sex\t\tSUSPECT'S SEX\n",
    "- race\t\tSUSPECT'S RACE\n",
    "- age\t\tSUSPECT'S AGE"
   ]
  },
  {
   "cell_type": "markdown",
   "metadata": {},
   "source": [
    "##\n",
    "- A - ASIAN/PACIFIC ISLANDER\n",
    "- B - BLACK\n",
    "- I - AMERICAN INDIAN/ALASKAN NATIVE\n",
    "- P - BLACK-HISPANIC\n",
    "- Q - WHITE-HISPANIC\n",
    "- W - WHITE\n",
    "- U - UNKNOWN\n",
    "- Z - OTHER"
   ]
  },
  {
   "cell_type": "code",
   "execution_count": 3,
   "metadata": {},
   "outputs": [
    {
     "name": "stderr",
     "output_type": "stream",
     "text": [
      "/usr/local/lib/python3.7/site-packages/IPython/core/interactiveshell.py:3049: DtypeWarning: Columns (0,1,2,3,4,8,10,18,19,41,73,74,82,83,84,85,86,103,110,111) have mixed types. Specify dtype option on import or set low_memory=False.\n",
      "  interactivity=interactivity, compiler=compiler, result=result)\n"
     ]
    },
    {
     "data": {
      "text/plain": [
       "(272606, 112)"
      ]
     },
     "execution_count": 3,
     "metadata": {},
     "output_type": "execute_result"
    }
   ],
   "source": [
    "## READ DATA \n",
    "df = pd.read_csv('../data/sqf_2013_2016.csv')\n",
    "df.shape"
   ]
  },
  {
   "cell_type": "markdown",
   "metadata": {},
   "source": [
    "##  Preprocessing "
   ]
  },
  {
   "cell_type": "code",
   "execution_count": 4,
   "metadata": {},
   "outputs": [
    {
     "data": {
      "text/plain": [
       "(272606, 112)"
      ]
     },
     "execution_count": 4,
     "metadata": {},
     "output_type": "execute_result"
    }
   ],
   "source": [
    "## Remove columns that have many missing values\n",
    "df = df.dropna(thresh=len(df)/2, axis=1) \n",
    "df.shape"
   ]
  },
  {
   "cell_type": "code",
   "execution_count": 5,
   "metadata": {},
   "outputs": [
    {
     "data": {
      "text/plain": [
       "(272606, 15)"
      ]
     },
     "execution_count": 5,
     "metadata": {},
     "output_type": "execute_result"
    }
   ],
   "source": [
    "# Keep these columns \n",
    "colnames = ['age','sex','race', 'perobs','perstop',\n",
    "            'explnstp','sumissue','inout', 'rf_attir', 'searched', \n",
    "            'frisked', 'offunif', 'pistol','contrabn','arstmade']\n",
    "df = df[colnames]\n",
    "df.shape"
   ]
  },
  {
   "cell_type": "code",
   "execution_count": 8,
   "metadata": {},
   "outputs": [
    {
     "data": {
      "text/plain": [
       "(261379, 15)"
      ]
     },
     "execution_count": 8,
     "metadata": {},
     "output_type": "execute_result"
    }
   ],
   "source": [
    "## Remove Null values \n",
    "df = df.replace('(Null)', np.nan)\n",
    "df = df.replace('**', np.nan)\n",
    "df = df.replace(' ', np.nan)\n",
    "df = df.dropna()\n",
    "df.shape"
   ]
  },
  {
   "cell_type": "code",
   "execution_count": 9,
   "metadata": {},
   "outputs": [],
   "source": [
    "### Encoding YES or NO\n",
    "le = LabelEncoder()\n",
    "#convert the categorical columns into numeric\n",
    "df['sex'] = le.fit_transform(df['sex'])\n",
    "df['explnstp'] = le.fit_transform(df['explnstp'])\n",
    "df['sumissue'] = le.fit_transform(df['sumissue'])\n",
    "df['inout'] = le.fit_transform(df['inout'])\n",
    "df['rf_attir'] = le.fit_transform(df['rf_attir'])\n",
    "df['searched'] = le.fit_transform(df['searched'])\n",
    "df['frisked'] = le.fit_transform(df['frisked'])\n",
    "df['offunif'] = le.fit_transform(df['offunif'])\n",
    "df['pistol'] = le.fit_transform(df['pistol'])\n",
    "df['contrabn'] = le.fit_transform(df['contrabn'])\n",
    "df['arstmade'] = le.fit_transform(df['arstmade'])"
   ]
  },
  {
   "cell_type": "code",
   "execution_count": 10,
   "metadata": {},
   "outputs": [
    {
     "data": {
      "text/plain": [
       "(261379, 15)"
      ]
     },
     "execution_count": 10,
     "metadata": {},
     "output_type": "execute_result"
    }
   ],
   "source": [
    "df.shape"
   ]
  },
  {
   "cell_type": "code",
   "execution_count": 11,
   "metadata": {},
   "outputs": [
    {
     "data": {
      "text/html": [
       "<div>\n",
       "<style scoped>\n",
       "    .dataframe tbody tr th:only-of-type {\n",
       "        vertical-align: middle;\n",
       "    }\n",
       "\n",
       "    .dataframe tbody tr th {\n",
       "        vertical-align: top;\n",
       "    }\n",
       "\n",
       "    .dataframe thead th {\n",
       "        text-align: right;\n",
       "    }\n",
       "</style>\n",
       "<table border=\"1\" class=\"dataframe\">\n",
       "  <thead>\n",
       "    <tr style=\"text-align: right;\">\n",
       "      <th></th>\n",
       "      <th>age</th>\n",
       "      <th>sex</th>\n",
       "      <th>race</th>\n",
       "      <th>perobs</th>\n",
       "      <th>perstop</th>\n",
       "      <th>explnstp</th>\n",
       "      <th>sumissue</th>\n",
       "      <th>inout</th>\n",
       "      <th>rf_attir</th>\n",
       "      <th>searched</th>\n",
       "      <th>frisked</th>\n",
       "      <th>offunif</th>\n",
       "      <th>pistol</th>\n",
       "      <th>contrabn</th>\n",
       "      <th>arstmade</th>\n",
       "    </tr>\n",
       "  </thead>\n",
       "  <tbody>\n",
       "    <tr>\n",
       "      <th>0</th>\n",
       "      <td>41</td>\n",
       "      <td>1</td>\n",
       "      <td>B</td>\n",
       "      <td>6</td>\n",
       "      <td>1</td>\n",
       "      <td>1</td>\n",
       "      <td>0</td>\n",
       "      <td>0</td>\n",
       "      <td>2</td>\n",
       "      <td>0</td>\n",
       "      <td>1</td>\n",
       "      <td>0</td>\n",
       "      <td>1</td>\n",
       "      <td>0</td>\n",
       "      <td>0</td>\n",
       "    </tr>\n",
       "    <tr>\n",
       "      <th>1</th>\n",
       "      <td>32</td>\n",
       "      <td>1</td>\n",
       "      <td>A</td>\n",
       "      <td>15</td>\n",
       "      <td>3</td>\n",
       "      <td>1</td>\n",
       "      <td>0</td>\n",
       "      <td>0</td>\n",
       "      <td>1</td>\n",
       "      <td>0</td>\n",
       "      <td>0</td>\n",
       "      <td>0</td>\n",
       "      <td>1</td>\n",
       "      <td>0</td>\n",
       "      <td>0</td>\n",
       "    </tr>\n",
       "    <tr>\n",
       "      <th>2</th>\n",
       "      <td>20</td>\n",
       "      <td>1</td>\n",
       "      <td>B</td>\n",
       "      <td>10</td>\n",
       "      <td>5</td>\n",
       "      <td>1</td>\n",
       "      <td>0</td>\n",
       "      <td>0</td>\n",
       "      <td>1</td>\n",
       "      <td>1</td>\n",
       "      <td>1</td>\n",
       "      <td>0</td>\n",
       "      <td>1</td>\n",
       "      <td>0</td>\n",
       "      <td>0</td>\n",
       "    </tr>\n",
       "    <tr>\n",
       "      <th>3</th>\n",
       "      <td>57</td>\n",
       "      <td>1</td>\n",
       "      <td>B</td>\n",
       "      <td>1</td>\n",
       "      <td>1</td>\n",
       "      <td>1</td>\n",
       "      <td>0</td>\n",
       "      <td>1</td>\n",
       "      <td>1</td>\n",
       "      <td>0</td>\n",
       "      <td>0</td>\n",
       "      <td>1</td>\n",
       "      <td>1</td>\n",
       "      <td>0</td>\n",
       "      <td>0</td>\n",
       "    </tr>\n",
       "    <tr>\n",
       "      <th>4</th>\n",
       "      <td>31</td>\n",
       "      <td>1</td>\n",
       "      <td>B</td>\n",
       "      <td>5</td>\n",
       "      <td>2</td>\n",
       "      <td>1</td>\n",
       "      <td>0</td>\n",
       "      <td>1</td>\n",
       "      <td>1</td>\n",
       "      <td>0</td>\n",
       "      <td>0</td>\n",
       "      <td>1</td>\n",
       "      <td>1</td>\n",
       "      <td>0</td>\n",
       "      <td>0</td>\n",
       "    </tr>\n",
       "  </tbody>\n",
       "</table>\n",
       "</div>"
      ],
      "text/plain": [
       "  age  sex race perobs perstop  explnstp  sumissue  inout  rf_attir  searched  \\\n",
       "0  41    1    B      6       1         1         0      0         2         0   \n",
       "1  32    1    A     15       3         1         0      0         1         0   \n",
       "2  20    1    B     10       5         1         0      0         1         1   \n",
       "3  57    1    B      1       1         1         0      1         1         0   \n",
       "4  31    1    B      5       2         1         0      1         1         0   \n",
       "\n",
       "   frisked  offunif  pistol  contrabn  arstmade  \n",
       "0        1        0       1         0         0  \n",
       "1        0        0       1         0         0  \n",
       "2        1        0       1         0         0  \n",
       "3        0        1       1         0         0  \n",
       "4        0        1       1         0         0  "
      ]
     },
     "execution_count": 11,
     "metadata": {},
     "output_type": "execute_result"
    }
   ],
   "source": [
    "df.head()"
   ]
  },
  {
   "cell_type": "code",
   "execution_count": null,
   "metadata": {},
   "outputs": [],
   "source": []
  }
 ],
 "metadata": {
  "kernelspec": {
   "display_name": "Python 3",
   "language": "python",
   "name": "python3"
  },
  "language_info": {
   "codemirror_mode": {
    "name": "ipython",
    "version": 3
   },
   "file_extension": ".py",
   "mimetype": "text/x-python",
   "name": "python",
   "nbconvert_exporter": "python",
   "pygments_lexer": "ipython3",
   "version": "3.7.4"
  }
 },
 "nbformat": 4,
 "nbformat_minor": 2
}
